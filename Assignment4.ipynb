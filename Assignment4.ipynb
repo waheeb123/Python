{
  "nbformat": 4,
  "nbformat_minor": 0,
  "metadata": {
    "colab": {
      "provenance": []
    },
    "kernelspec": {
      "name": "python3",
      "display_name": "Python 3"
    },
    "language_info": {
      "name": "python"
    }
  },
  "cells": [
    {
      "cell_type": "markdown",
      "source": [
        "##### *Waheeb Algabri*"
      ],
      "metadata": {
        "id": "yN5Bmn8JZvMg"
      }
    },
    {
      "cell_type": "markdown",
      "source": [
        "**Q1: Create a class called BankAccount that has four attributes: bankname, firstname, lastname, and balance. The default balance should be set to 0.**\n",
        "\n",
        "\n",
        "**In addition, create ...**\n",
        "\n",
        "* A method called __deposit()__ that allows the user to make deposits into their balance.\n",
        "* A method called __withdrawal()__ that allows the user to withdraw from their balance.\n",
        "* Withdrawal may not exceed the available balance. Hint: consider a conditional argument in your __withdrawal()__ method.\n",
        "* Use the __str__() method in order to display the bank name, owner name, and current balance.\n",
        "* Make a series of deposits and withdrawals to test your class.\n"
      ],
      "metadata": {
        "id": "STK6-Pm6zIOQ"
      }
    },
    {
      "cell_type": "code",
      "execution_count": 8,
      "metadata": {
        "id": "g9oTU0Jcp9Da"
      },
      "outputs": [],
      "source": [
        "\n",
        "class BankAccount:\n",
        "  def __init__(self, bankname,firstname,lastname,balance):\n",
        "    self.bankname=bankname\n",
        "    self.firstname=firstname\n",
        "    self.lastname=lastname\n",
        "    self.balance=balance\n",
        "  def deposit(self, deposit):\n",
        "    self.balance= self.balance + deposit\n",
        "  def withdrawal(self, withdrawal):\n",
        "    if withdrawal < self.balance:\n",
        "      self.balance=self.balance-withdrawal\n",
        "    else:\n",
        "      print(\"not possible\")\n",
        "  def __str__(self):\n",
        "    return f\"The Customer Mr.{self.firstname} {self.lastname} of {self.bankname} Bank has {self.balance} amount as available balance\"\n",
        "\n",
        "BA = BankAccount(\"Tdbank\",\"Waheeb\",\"Algabri\",6500)\n"
      ]
    },
    {
      "cell_type": "code",
      "source": [
        "BA.deposit(500)\n",
        "print(BA)"
      ],
      "metadata": {
        "colab": {
          "base_uri": "https://localhost:8080/"
        },
        "id": "oY0ZcwoywvPp",
        "outputId": "901d97c4-e51a-4ed6-803c-bea5d3b9e430"
      },
      "execution_count": 17,
      "outputs": [
        {
          "output_type": "stream",
          "name": "stdout",
          "text": [
            "The Customer Mr.Waheeb Algabri of Tdbank Bank has 8000 amount as available balance\n"
          ]
        }
      ]
    },
    {
      "cell_type": "code",
      "source": [
        "BA.deposit(1500)\n",
        "print(BA)"
      ],
      "metadata": {
        "colab": {
          "base_uri": "https://localhost:8080/"
        },
        "id": "eylYs7EEw0Yl",
        "outputId": "a2dcfe57-b6bc-4261-e858-40361f40bf7c"
      },
      "execution_count": 18,
      "outputs": [
        {
          "output_type": "stream",
          "name": "stdout",
          "text": [
            "The Customer Mr.Waheeb Algabri of Tdbank Bank has 9500 amount as available balance\n"
          ]
        }
      ]
    },
    {
      "cell_type": "code",
      "source": [
        "BA.withdrawal(1000)\n",
        "print(BA)"
      ],
      "metadata": {
        "colab": {
          "base_uri": "https://localhost:8080/"
        },
        "id": "KATaMzdxw2JP",
        "outputId": "dde9cd8b-5df9-41c5-f410-ed85f940f01a"
      },
      "execution_count": 19,
      "outputs": [
        {
          "output_type": "stream",
          "name": "stdout",
          "text": [
            "The Customer Mr.Waheeb Algabri of Tdbank Bank has 8500 amount as available balance\n"
          ]
        }
      ]
    },
    {
      "cell_type": "markdown",
      "source": [
        "**Q2: Create a class Box that has attributes length and width that takes values for length and width upon construction (instantiation via the constructor). In addition, create…**\n",
        "\n",
        "* A method called __render()__ that prints out to the screen a box made with asterisks of length and width dimensions.\n",
        "* A method called __invert()__ that switches length and width with each other.\n",
        "* Methods __get_area()__ and __get_perimeter()__ that return appropriate geometric calculations.\n",
        "* A method called __double()__ that doubles the size of the box. Hint: Pay attention to return value here.\n",
        "* Implement __eq__ so that two boxes can be compared using ==. Two boxes are equal if their respective lengths and widths are identical.\n",
        "* A method __print_dim()__ that prints to screen the length and width details of the box.\n",
        "* A method __get_dim()__ that returns a tuple containing the length and width of the box.\n",
        "* A method __combine()__ that takes another box as an argument and increases the length and width by the dimensions of the box passed in.\n",
        "* A method __get_hypot()__ that finds the length of the diagonal that cuts through the middle.\n",
        "* Instantiate 3 boxes of dimensions 5,10 , 3,4 and 5,10 and assign to variables box1, box2 and box3 respectively\n",
        "* Print dimension info for each using __print_dim()__\n",
        "* Evaluate if box1 == box2, and also evaluate if box1 == box3, print True or False to the screen accordingly.\n",
        "* Combine box3 into box1 (i.e. box1.combine()).\n",
        "* Double the size of box2.\n",
        "* Combine box2 into box1"
      ],
      "metadata": {
        "id": "FSuLwjFtz5v0"
      }
    },
    {
      "cell_type": "code",
      "source": [
        "import math as mt\n",
        "class Box:\n",
        "  def __init__(self, length, width, area=0):\n",
        "    self.length=length\n",
        "    self.width=width\n",
        "    self.area = area\n",
        "  def render(self):\n",
        "    for i in range(self.length):\n",
        "      print(\"* \"*self.width)\n",
        "  def revert(self):\n",
        "    self.length = self.width\n",
        "    self.width = self.length\n",
        "  def get_area(self):\n",
        "    self.area= self.length * self.width\n",
        "    print(self.area)\n",
        "  def get_perimeter(self, perimeter=0):\n",
        "    self.perimeter = 2*(self.length+self.width)\n",
        "    print(self.perimeter)\n",
        "  def double(self, length_new=0, width_new=0):\n",
        "    self.length_new = 2*self.length\n",
        "    self.width_new = 2*self.width\n",
        "    print(f\"The double length is {self.length_new} and width is {self.width_new}\")\n",
        "  def __eq__(self):\n",
        "    return self.length == self.length_new\n",
        "    return self.width == self.width_new\n",
        "  def print_dim(self):\n",
        "    print(f\"The length of box is {self.length} and width is {self.width}\")\n",
        "  def get_dim(self):\n",
        "    return [self.length, self.width]\n",
        "  def combine(self, other):\n",
        "    self.length=other.length+self.length\n",
        "    self.width=other.width+self.width\n",
        "    return f'The combine length is {self.length} and width is {self.width}'\n",
        "  def get_hypot(self, hypot=0):\n",
        "    self.hypot = mt.sqrt((self.length**2)+(self.width**2))\n",
        "    return self.hypot\n",
        "  def __eq__(self,other):\n",
        "    return (self.length == other.length) and (self.width == other.width)\n",
        "\n",
        "\n",
        "\n",
        "\n",
        "\n",
        "\n",
        "bx =Box(5 ,5)\n",
        "bx1= Box(1,1)\n",
        "bx.render()\n",
        "#bx.revert()\n",
        "bx.get_area()\n",
        "bx.get_perimeter()\n",
        "bx.double()\n",
        "bx.print_dim()\n",
        "bx.get_dim()\n",
        "print(bx.combine(bx1))\n",
        "print(bx.get_hypot())"
      ],
      "metadata": {
        "id": "dvnJFvI70hyw",
        "colab": {
          "base_uri": "https://localhost:8080/"
        },
        "outputId": "88bc5948-837b-41ee-f55b-3d8aace97c56"
      },
      "execution_count": 27,
      "outputs": [
        {
          "output_type": "stream",
          "name": "stdout",
          "text": [
            "* * * * * \n",
            "* * * * * \n",
            "* * * * * \n",
            "* * * * * \n",
            "* * * * * \n",
            "25\n",
            "20\n",
            "The double length is 10 and width is 10\n",
            "The length of box is 5 and width is 5\n",
            "The combine length is 6 and width is 6\n",
            "8.48528137423857\n"
          ]
        }
      ]
    },
    {
      "cell_type": "code",
      "source": [
        "box1 = Box(5,10)\n",
        "box2= Box(3,4)\n",
        "box3= Box(5,10)"
      ],
      "metadata": {
        "id": "0YUCEFfvPYRL"
      },
      "execution_count": 28,
      "outputs": []
    },
    {
      "cell_type": "code",
      "source": [
        "box1.print_dim()\n",
        "box2.print_dim()\n",
        "box3.print_dim()"
      ],
      "metadata": {
        "colab": {
          "base_uri": "https://localhost:8080/"
        },
        "id": "IgCa3eolTWpI",
        "outputId": "408d538b-9139-4f5e-cb1d-0d0be51fccc2"
      },
      "execution_count": 29,
      "outputs": [
        {
          "output_type": "stream",
          "name": "stdout",
          "text": [
            "The length of box is 5 and width is 10\n",
            "The length of box is 3 and width is 4\n",
            "The length of box is 5 and width is 10\n"
          ]
        }
      ]
    },
    {
      "cell_type": "code",
      "source": [
        "box1== box2\n"
      ],
      "metadata": {
        "colab": {
          "base_uri": "https://localhost:8080/"
        },
        "id": "CeNwUt5xTm8G",
        "outputId": "cae8a209-1d78-4893-b644-121795f447d5"
      },
      "execution_count": 30,
      "outputs": [
        {
          "output_type": "execute_result",
          "data": {
            "text/plain": [
              "False"
            ]
          },
          "metadata": {},
          "execution_count": 30
        }
      ]
    },
    {
      "cell_type": "code",
      "source": [
        "box1 == box3"
      ],
      "metadata": {
        "colab": {
          "base_uri": "https://localhost:8080/"
        },
        "id": "7foNp99OZdiI",
        "outputId": "6fe84a50-7c21-4f37-e87c-3602aa889aab"
      },
      "execution_count": 31,
      "outputs": [
        {
          "output_type": "execute_result",
          "data": {
            "text/plain": [
              "True"
            ]
          },
          "metadata": {},
          "execution_count": 31
        }
      ]
    },
    {
      "cell_type": "code",
      "source": [
        "box2.double()\n"
      ],
      "metadata": {
        "colab": {
          "base_uri": "https://localhost:8080/"
        },
        "id": "q32La39Xbsf0",
        "outputId": "9b9159e3-2208-40a9-814a-476bd0bce89c"
      },
      "execution_count": 32,
      "outputs": [
        {
          "output_type": "stream",
          "name": "stdout",
          "text": [
            "The double length is 6 and width is 8\n"
          ]
        }
      ]
    },
    {
      "cell_type": "code",
      "source": [
        "print(box1.combine(box2))\n",
        "print(box1.combine(box3))"
      ],
      "metadata": {
        "colab": {
          "base_uri": "https://localhost:8080/"
        },
        "id": "GN4vhx99cOA_",
        "outputId": "6e07293b-2af3-49a0-91e0-34ce6a22bbf3"
      },
      "execution_count": 34,
      "outputs": [
        {
          "output_type": "stream",
          "name": "stdout",
          "text": [
            "The combine length is 16 and width is 28\n",
            "The combine length is 21 and width is 38\n"
          ]
        }
      ]
    }
  ]
}