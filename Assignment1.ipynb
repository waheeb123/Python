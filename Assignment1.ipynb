{
  "nbformat": 4,
  "nbformat_minor": 0,
  "metadata": {
    "colab": {
      "provenance": [],
      "authorship_tag": "ABX9TyO11jHagf87Jf2ZDSUO8f2g"
    },
    "kernelspec": {
      "name": "python3",
      "display_name": "Python 3"
    },
    "language_info": {
      "name": "python"
    }
  },
  "cells": [
    {
      "cell_type": "markdown",
      "source": [
        "#### Waheeb Algabri\n",
        "\n",
        "Debugging assignment 1"
      ],
      "metadata": {
        "id": "tK_O1AtNGshG"
      }
    },
    {
      "cell_type": "markdown",
      "source": [
        "# Question 1\n",
        "\n",
        " ### Fix all the syntax and logical errors in the given source code and add comments to explain your reasoning\n",
        "\n",
        "### This program gets three test scores and displays their average.  It congratulates the user if the average is a high score. The high score variable holds the value that is considered a high score.\n"
      ],
      "metadata": {
        "id": "34qwKDKzHiex"
      }
    },
    {
      "cell_type": "code",
      "source": [
        "HIGH_SCORE = 95\n",
        "\n",
        "# Get the test scores as integers.\n",
        "test1 = int(input('Enter the score for test 1: '))  # Convert input to integer\n",
        "test2 = int(input('Enter the score for test 2: '))  # Convert input to integer\n",
        "test3 = int(input('Enter the score for test 3: '))  # Convert input to integer\n",
        "\n",
        "# Calculate the average test score.\n",
        "average = (test1 + test2 + test3) / 3  # Added parentheses for correct calculation\n",
        "\n",
        "# Print the average.\n",
        "print('The average score is', average)\n",
        "\n",
        "# If the average is a high score,\n",
        "# congratulate the user.\n",
        "if average >= HIGH_SCORE:  # Corrected the capitalization of variable name\n",
        "    print('Congratulations!')\n",
        "    print('That is a great average!')"
      ],
      "metadata": {
        "colab": {
          "base_uri": "https://localhost:8080/"
        },
        "id": "FmjiTM6ZEh_G",
        "outputId": "e6797c66-1f62-4591-9a5c-2aa5b3ccb57b"
      },
      "execution_count": 3,
      "outputs": [
        {
          "output_type": "stream",
          "name": "stdout",
          "text": [
            "Enter the score for test 1: 96\n",
            "Enter the score for test 2: 97\n",
            "Enter the score for test 3: 99\n",
            "The average score is 97.33333333333333\n",
            "Congratulations!\n",
            "That is a great average!\n"
          ]
        }
      ]
    },
    {
      "cell_type": "markdown",
      "source": [
        "\n",
        "# Question 2\n",
        "\n",
        "### The area of a rectangle is the rectangle’s length times its width. Write a program that asks for the length and width of two rectangles and prints to the user the area of both rectangles.\n"
      ],
      "metadata": {
        "id": "SlgPtkJIFOGZ"
      }
    },
    {
      "cell_type": "code",
      "source": [
        "# Get the length and width of the first rectangle from the user\n",
        "length1 = float(input(\"Enter the length of the first rectangle: \"))\n",
        "width1 = float(input(\"Enter the width of the first rectangle: \"))\n",
        "\n",
        "# Calculate the area of the first rectangle\n",
        "area1 = length1 * width1\n",
        "\n",
        "# Get the length and width of the second rectangle from the user\n",
        "length2 = float(input(\"Enter the length of the second rectangle: \"))\n",
        "width2 = float(input(\"Enter the width of the second rectangle: \"))\n",
        "\n",
        "# Calculate the area of the second rectangle\n",
        "area2 = length2 * width2\n",
        "\n",
        "# Print the areas of both rectangles\n",
        "print(\"Area of the first rectangle:\", area1)\n",
        "print(\"Area of the second rectangle:\", area2)\n"
      ],
      "metadata": {
        "colab": {
          "base_uri": "https://localhost:8080/"
        },
        "id": "NmrzdwD0FT7u",
        "outputId": "209a7a50-4716-4cc1-f178-39c3ea38c52b"
      },
      "execution_count": 4,
      "outputs": [
        {
          "output_type": "stream",
          "name": "stdout",
          "text": [
            "Enter the length of the first rectangle: 70\n",
            "Enter the width of the first rectangle: 80\n",
            "Enter the length of the second rectangle: 875\n",
            "Enter the width of the second rectangle: 765\n",
            "Area of the first rectangle: 5600.0\n",
            "Area of the second rectangle: 669375.0\n"
          ]
        }
      ]
    },
    {
      "cell_type": "markdown",
      "source": [
        "# Question 3\n",
        "\n",
        "### Ask a user to enter their first name and their age and assign it to the variables name and age.\n",
        "### The variable name should be a string and the variable age should be an int."
      ],
      "metadata": {
        "id": "560-cLKwFtbH"
      }
    },
    {
      "cell_type": "code",
      "source": [
        "# Get the user's first name as a string\n",
        "name = input(\"Enter your first name: \")\n",
        "\n",
        "# Get the user's age as an integer\n",
        "age = int(input(\"Enter your age: \"))\n",
        "\n",
        "# Now, 'name' is a string and 'age' is an integer\n"
      ],
      "metadata": {
        "colab": {
          "base_uri": "https://localhost:8080/"
        },
        "id": "YC6QTEqqFxbE",
        "outputId": "b69690e2-60b3-46b4-d732-b2e28c93c209"
      },
      "execution_count": 5,
      "outputs": [
        {
          "name": "stdout",
          "output_type": "stream",
          "text": [
            "Enter your first name: WAHEEB\n",
            "Enter your age: 32\n"
          ]
        }
      ]
    }
  ]
}