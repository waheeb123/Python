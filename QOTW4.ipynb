{
  "nbformat": 4,
  "nbformat_minor": 0,
  "metadata": {
    "colab": {
      "provenance": [],
      "authorship_tag": "ABX9TyPR0pORAWQztOa5DqxWSosp"
    },
    "kernelspec": {
      "name": "python3",
      "display_name": "Python 3"
    },
    "language_info": {
      "name": "python"
    }
  },
  "cells": [
    {
      "cell_type": "markdown",
      "source": [
        "### *Waheeb Algabri*"
      ],
      "metadata": {
        "id": "vTEH5FWKpTl5"
      }
    },
    {
      "cell_type": "markdown",
      "source": [
        "### *Question 1*\n",
        "\n",
        "##### *Write a function to calculate the area and perimeter of a rectangle.*"
      ],
      "metadata": {
        "id": "Nzy6hTQWiAK5"
      }
    },
    {
      "cell_type": "code",
      "source": [
        "def rectangle_area(length, width):\n",
        "    area = length * width\n",
        "    perimeter = 2 * (length + width)\n",
        "    return area, perimeter"
      ],
      "metadata": {
        "id": "ETw_8pieiS9h"
      },
      "execution_count": 6,
      "outputs": []
    },
    {
      "cell_type": "code",
      "source": [
        "# Call the function with specific values for length and width\n",
        "length = 5\n",
        "width = 3\n",
        "area, perimeter = rectangle_area(length, width)\n",
        "\n",
        "# Print the results\n",
        "print(\"Area:\", area)\n",
        "print(\"Perimeter:\", perimeter)\n"
      ],
      "metadata": {
        "colab": {
          "base_uri": "https://localhost:8080/"
        },
        "id": "aiT-KEsKjZQx",
        "outputId": "81c33bc6-2ee4-46f0-b8aa-7f7871c01598"
      },
      "execution_count": 12,
      "outputs": [
        {
          "output_type": "stream",
          "name": "stdout",
          "text": [
            "Area: 15\n",
            "Perimeter: 16\n"
          ]
        }
      ]
    },
    {
      "cell_type": "markdown",
      "source": [
        "### *Question 2*\n",
        "\n",
        "##### *Write a function to check if a number is even or not.  The function should indicate to the user even or odd.*"
      ],
      "metadata": {
        "id": "hgv1GJZpjqrz"
      }
    },
    {
      "cell_type": "code",
      "source": [
        "def is_even(number):\n",
        "    if number % 2 == 0:\n",
        "        return \"Even\"\n",
        "    else:\n",
        "        return \"Odd\"\n"
      ],
      "metadata": {
        "id": "UETLqSazkoBx"
      },
      "execution_count": 13,
      "outputs": []
    },
    {
      "cell_type": "code",
      "source": [
        "# Call the function with a specific number\n",
        "number = 4\n",
        "result = is_even(number)\n",
        "\n",
        "# Print the result\n",
        "print(f\"The number {number} is {result}.\")"
      ],
      "metadata": {
        "colab": {
          "base_uri": "https://localhost:8080/"
        },
        "id": "6c5UVuevk7T8",
        "outputId": "746b125e-ca7b-4c47-e305-352d38256c13"
      },
      "execution_count": 14,
      "outputs": [
        {
          "output_type": "stream",
          "name": "stdout",
          "text": [
            "The number 4 is Even.\n"
          ]
        }
      ]
    },
    {
      "cell_type": "markdown",
      "source": [
        "### *Question 3*\n",
        "\n",
        " ##### *Write a Python function that accepts a string and calculate the number of upper case letters and lower case letters.*\n",
        "\n",
        "\n",
        "**Sample string: “CUNY sps”**\n",
        "\n",
        "**# of upper case characters: 4**\n",
        "\n",
        "**# of lower case characters: 3**"
      ],
      "metadata": {
        "id": "5ELMuTFUlC0p"
      }
    },
    {
      "cell_type": "code",
      "source": [
        "def count_case_letters(input_string):\n",
        "    uppercase_count = 0\n",
        "    lowercase_count = 0\n",
        "    for char in input_string:\n",
        "        if char.isupper():\n",
        "            uppercase_count += 1\n",
        "        elif char.islower():\n",
        "            lowercase_count += 1\n",
        "    return uppercase_count, lowercase_count\n"
      ],
      "metadata": {
        "id": "iRG87leFmZqf"
      },
      "execution_count": 15,
      "outputs": []
    },
    {
      "cell_type": "code",
      "source": [
        "# Sample string\n",
        "sample_string = \"CUNY sps\"\n",
        "\n",
        "# Call the function with the sample string\n",
        "upper_count, lower_count = count_case_letters(sample_string)\n",
        "\n",
        "# Print the results\n",
        "print(\"# of upper case characters:\", upper_count)\n",
        "print(\"# of lower case characters:\", lower_count)"
      ],
      "metadata": {
        "colab": {
          "base_uri": "https://localhost:8080/"
        },
        "id": "MsIqc49nm0SN",
        "outputId": "92389e5a-38b8-4216-f599-355bd05c95f4"
      },
      "execution_count": 19,
      "outputs": [
        {
          "output_type": "stream",
          "name": "stdout",
          "text": [
            "# of upper case characters: 4\n",
            "# of lower case characters: 3\n"
          ]
        }
      ]
    },
    {
      "cell_type": "markdown",
      "source": [
        "### *Quuestion 4*\n",
        "\n",
        "##### *Write a Python function to sum all the numbers in a list*"
      ],
      "metadata": {
        "id": "vhxj97L5nYI4"
      }
    },
    {
      "cell_type": "code",
      "source": [
        "def sum_list_numbers(numbers):\n",
        "    total = sum(numbers)\n",
        "    return total\n"
      ],
      "metadata": {
        "id": "44GH2fLan4eu"
      },
      "execution_count": 20,
      "outputs": []
    },
    {
      "cell_type": "code",
      "source": [
        "# Sample list of numbers\n",
        "numbers_list = [1, 2, 3, 4, 5]\n",
        "\n",
        "# Call the function with the sample list\n",
        "result = sum_list_numbers(numbers_list)\n",
        "\n",
        "# Print the result\n",
        "print(\"Sum of numbers:\", result)"
      ],
      "metadata": {
        "colab": {
          "base_uri": "https://localhost:8080/"
        },
        "id": "uH8FZ1Cdn6RP",
        "outputId": "ad26f179-871f-4ee4-fb35-16da5b21fb63"
      },
      "execution_count": 21,
      "outputs": [
        {
          "output_type": "stream",
          "name": "stdout",
          "text": [
            "Sum of numbers: 15\n"
          ]
        }
      ]
    },
    {
      "cell_type": "markdown",
      "source": [
        "### *Question 5*\n",
        "\n",
        "##### *Create a function that shows an example of global vs local variables.*"
      ],
      "metadata": {
        "id": "sC6cyHsMoESC"
      }
    },
    {
      "cell_type": "code",
      "source": [
        "global_variable = 10\n",
        "\n",
        "def example_function():\n",
        "    local_variable = 5\n",
        "    print(\"Global variable:\", global_variable)\n",
        "    print(\"Local variable:\", local_variable)\n",
        "\n",
        "example_function()\n",
        "print(\"Outside the function, global variable:\", global_variable)\n",
        "# The local_variable is not accessible outside the function.\n"
      ],
      "metadata": {
        "colab": {
          "base_uri": "https://localhost:8080/"
        },
        "id": "eLabxcOaoYzb",
        "outputId": "4a6988e0-c43f-4a5b-aaef-162bfda8b5c9"
      },
      "execution_count": 22,
      "outputs": [
        {
          "output_type": "stream",
          "name": "stdout",
          "text": [
            "Global variable: 10\n",
            "Local variable: 5\n",
            "Outside the function, global variable: 10\n"
          ]
        }
      ]
    },
    {
      "cell_type": "markdown",
      "source": [
        "### *Question 6*\n",
        "\n",
        "##### *Write a Python program to create a function that takes one argument, and that argument will be multiplied with an unknown given number.*"
      ],
      "metadata": {
        "id": "lEitZrYdohFb"
      }
    },
    {
      "cell_type": "code",
      "source": [
        "def multiply_with_unknown(value):\n",
        "    unknown_number = 7  # You can replace this with any desired number\n",
        "    result = value * unknown_number\n",
        "    return result\n"
      ],
      "metadata": {
        "id": "ZCRX_SGqoxfi"
      },
      "execution_count": 23,
      "outputs": []
    },
    {
      "cell_type": "code",
      "source": [
        "# Call the function with a specific value\n",
        "value = 5\n",
        "result = multiply_with_unknown(value)\n",
        "\n",
        "# Print the result\n",
        "print(f\"{value} multiplied by the unknown number is {result}.\")"
      ],
      "metadata": {
        "colab": {
          "base_uri": "https://localhost:8080/"
        },
        "id": "IXlYcEJapD7x",
        "outputId": "7a7fc3d4-9d48-4a01-da29-db08d0ac9c71"
      },
      "execution_count": 24,
      "outputs": [
        {
          "output_type": "stream",
          "name": "stdout",
          "text": [
            "5 multiplied by the unknown number is 35.\n"
          ]
        }
      ]
    }
  ]
}