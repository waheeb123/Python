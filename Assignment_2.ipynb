{
  "nbformat": 4,
  "nbformat_minor": 0,
  "metadata": {
    "colab": {
      "provenance": []
    },
    "kernelspec": {
      "name": "python3",
      "display_name": "Python 3"
    },
    "language_info": {
      "name": "python"
    }
  },
  "cells": [
    {
      "cell_type": "markdown",
      "source": [
        "Waheeb Algabri\n",
        "\n",
        "##### **Q1. What will the following code display?**\n",
        "\n",
        "numbers = [1, 2, 3, 4, 5]\n",
        "\n",
        "print(numbers[1:-5])\n",
        "\n",
        "Can you debug and fix the output? The code should return the entire list"
      ],
      "metadata": {
        "id": "I1bMZrgGK19s"
      }
    },
    {
      "cell_type": "code",
      "source": [
        "numbers=[1,2,3,4,5]\n",
        "print(numbers[0:5])"
      ],
      "metadata": {
        "colab": {
          "base_uri": "https://localhost:8080/"
        },
        "id": "R2v8NTECLjq6",
        "outputId": "2dde5aa0-ec58-48b0-bf45-83e225efdef2"
      },
      "execution_count": null,
      "outputs": [
        {
          "output_type": "stream",
          "name": "stdout",
          "text": [
            "[1, 2, 3, 4, 5]\n"
          ]
        }
      ]
    },
    {
      "cell_type": "markdown",
      "source": [
        "##### **Q2. Design a program that asks the user to enter a store’s sales for each day of the week. The amounts should be stored in a list. Use a loop to calculate the total sales for the week and display the result.**"
      ],
      "metadata": {
        "id": "KbJw2GcnMBf_"
      }
    },
    {
      "cell_type": "code",
      "source": [
        "def sales_tracker():\n",
        "    weekdays = ['Monday', 'Tuesday', 'Wednesday', 'Thursday', 'Friday', 'Saturday', 'Sunday']\n",
        "    tracker = {}\n",
        "    total_sales = 0  # Initialize a variable to store the total sales\n",
        "\n",
        "    for day in weekdays:\n",
        "        sales = int(input(f'Please enter the amount of sale for {day}: '))\n",
        "        tracker[day] = sales\n",
        "        total_sales += sales  # Add the daily sales to the total_sales\n",
        "\n",
        "    return tracker, total_sales\n",
        "\n",
        "tracker, total_weekly_sales = sales_tracker()\n",
        "print(\"Sales Data for the Week:\")\n",
        "print(tracker)\n",
        "print(\"Total Sales for the Week:\", total_weekly_sales)\n",
        "\n"
      ],
      "metadata": {
        "id": "y1rYQT22MuoU",
        "colab": {
          "base_uri": "https://localhost:8080/"
        },
        "outputId": "c26aea26-b237-4e78-f6ce-2e85705097a2"
      },
      "execution_count": 1,
      "outputs": [
        {
          "output_type": "stream",
          "name": "stdout",
          "text": [
            "Please enter the amount of sale for Monday: 3000\n",
            "Please enter the amount of sale for Tuesday: 2500\n",
            "Please enter the amount of sale for Wednesday: 1700\n",
            "Please enter the amount of sale for Thursday: 1900\n",
            "Please enter the amount of sale for Friday: 3000\n",
            "Please enter the amount of sale for Saturday: 3500\n",
            "Please enter the amount of sale for Sunday: 4000\n",
            "Sales Data for the Week:\n",
            "{'Monday': 3000, 'Tuesday': 2500, 'Wednesday': 1700, 'Thursday': 1900, 'Friday': 3000, 'Saturday': 3500, 'Sunday': 4000}\n",
            "Total Sales for the Week: 19600\n"
          ]
        }
      ]
    },
    {
      "cell_type": "markdown",
      "source": [
        "##### **Q3. Create a list with at least 5 places you’d like to travel to. Make sure the list isn’t in alphabetical order**\n",
        "● Print your list in its original order.\n",
        "\n",
        "● Use the sort() function to arrange your list in order and reprint your list\n",
        "\n",
        "● Use the sort(reverse=True) and reprint your list\n"
      ],
      "metadata": {
        "id": "Rmko6loLR9rY"
      }
    },
    {
      "cell_type": "code",
      "source": [
        "travel = [\"Yemen\", \"Jordan\", \"Qater\", \"Italy\", \"UK\"]\n",
        "print(travel)\n",
        "travel.sort()\n",
        "print(travel)\n",
        "travel.sort(reverse=True)\n",
        "print(travel)\n"
      ],
      "metadata": {
        "colab": {
          "base_uri": "https://localhost:8080/"
        },
        "id": "6EIUNfXwTER8",
        "outputId": "2f6cf751-c410-49ec-fb90-22874df947fb"
      },
      "execution_count": null,
      "outputs": [
        {
          "output_type": "stream",
          "name": "stdout",
          "text": [
            "['Yemen', 'Jordan', 'Qater', 'Italy', 'UK']\n",
            "['Italy', 'Jordan', 'Qater', 'UK', 'Yemen']\n",
            "['Yemen', 'UK', 'Qater', 'Jordan', 'Italy']\n"
          ]
        }
      ]
    },
    {
      "cell_type": "markdown",
      "source": [
        "##### **Q4. Write a program that creates a dictionary containing course numbers and the room numbers of the rooms where the courses meet. The program should also create a dictionary containing course numbers and the names of the instructors that teach each course. After that, the program should let the user enter a course number, then it should display the course’s room number, instructor, and meeting time.**"
      ],
      "metadata": {
        "id": "YZdfwxlmTkLa"
      }
    },
    {
      "cell_type": "code",
      "source": [
        "number_room = {607:520, 606:286, 602:521, 604:321}\n",
        "number_instructor_time = {602:[\"Schettini\",\"6:00 PM EST\"], 604:[\"Fulton\", \"6:30 PM EST\"], 606:[\"Briar\", \"8:00 PM EST\"], 607:[\"Catlin\", \"6:45 PM EST\"]}\n",
        "\n",
        "def course_summary():\n",
        "  course_number = int(input(\"Please enter a course number: \"))\n",
        "  print(f\"The course number {course_number} meets in room {number_room[course_number]} and has the instructor {number_instructor_time[course_number][0]} and meets at {number_instructor_time[course_number][1]}\")\n",
        "\n",
        "course_summary()\n"
      ],
      "metadata": {
        "colab": {
          "base_uri": "https://localhost:8080/"
        },
        "id": "CHtKHFzMUHjh",
        "outputId": "573450d3-d52e-4a1b-ad9c-93c894ca5590"
      },
      "execution_count": null,
      "outputs": [
        {
          "output_type": "stream",
          "name": "stdout",
          "text": [
            "Please enter a course number: 602\n",
            "The course number 602 meets in room 521 and has the instructor Schettini and meets at 6:00 PM EST\n"
          ]
        }
      ]
    },
    {
      "cell_type": "markdown",
      "source": [
        "##### **Q5. Write a program that keeps names and email addresses in a dictionary as key-value pairs. The program should then demonstrate the four options:**\n",
        "● look up a person’s email address,\n",
        "\n",
        "● add a new name and email address,\n",
        "\n",
        "● change an existing email address, and\n",
        "\n",
        "● delete an existing name and email address."
      ],
      "metadata": {
        "id": "IWEdPmKMUQ_y"
      }
    },
    {
      "cell_type": "code",
      "source": [
        "name_email = {\"Waheeb\":\"Waheeb.Algabri@sps.cuny\"}\n",
        "def name_email_call():\n",
        "  actions = [\"look up\",\"add\",\"change\",\"delete\"]\n",
        "  user_input = input(f\"Please choose an action out of {actions}: \")\n",
        "  if user_input == \"look up\":\n",
        "    print(name_email[input(\"Please enter the name whose email address you want to look up: \")])\n",
        "  elif user_input == \"add\":\n",
        "    new_name = input(\"Please enter the name of the user you would like to add: \")\n",
        "    new_email_address = input(f\"Please enter the email address of {new_name}: \")\n",
        "    name_email[new_name] = new_email_address\n",
        "    print(name_email)\n",
        "  elif user_input == \"change\":\n",
        "    change_name = input(\"Please enter the name of the user you would like to edit: \")\n",
        "    change_email_address = input(f\"Please enter the new email address of {change_name}: \")\n",
        "    name_email[change_name] = change_email_address\n",
        "    print(name_email)\n",
        "  elif user_input == \"delete\":\n",
        "    delete_name = input(\"Please enter the name of the user you would like to delete: \")\n",
        "    del name_email[delete_name]\n",
        "    print(name_email)\n",
        "  else:\n",
        "    print(\"That was an invalid command\")\n",
        "    exit()\n",
        "name_email_call()"
      ],
      "metadata": {
        "id": "ia0HkAniUiAh",
        "colab": {
          "base_uri": "https://localhost:8080/"
        },
        "outputId": "07c6a623-9b1f-4bf1-9c74-a94d0d8b776e"
      },
      "execution_count": null,
      "outputs": [
        {
          "output_type": "stream",
          "name": "stdout",
          "text": [
            "Please choose an action out of ['look up', 'add', 'change', 'delete']: add\n",
            "Please enter the name of the user you would like to add: Kayleah \n",
            "Please enter the email address of Kayleah : Kayleah.sps.cuny\n",
            "{'Waheeb': 'Waheeb.Algabri@sps.cuny', 'Kayleah ': 'Kayleah.sps.cuny'}\n"
          ]
        }
      ]
    }
  ]
}