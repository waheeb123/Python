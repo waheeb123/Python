{
  "cells": [
    {
      "cell_type": "code",
      "execution_count": null,
      "metadata": {
        "id": "i7zB0NLj2YF-",
        "outputId": "bd86d55c-c12e-480d-b227-bc2a4ae0e146"
      },
      "outputs": [
        {
          "name": "stdout",
          "output_type": "stream",
          "text": [
            " * Serving Flask app '__main__'\n",
            " * Debug mode: off\n"
          ]
        },
        {
          "name": "stderr",
          "output_type": "stream",
          "text": [
            "WARNING: This is a development server. Do not use it in a production deployment. Use a production WSGI server instead.\n",
            " * Running on http://127.0.0.1:5000\n",
            "Press CTRL+C to quit\n",
            "127.0.0.1 - - [13/Nov/2023 22:15:08] \"GET / HTTP/1.1\" 200 -\n"
          ]
        }
      ],
      "source": [
        "## Waheeb Algabri\n",
        "\n",
        "'''\n",
        "Extra Credit\n",
        "\n",
        "Submissions must be a Python file and not a notebook file (i.e *.ipynb)\n",
        "Do not use global variables\n",
        "\n",
        "http://flask.pocoo.org/docs/1.0/quickstart/\n",
        "\n",
        "Using the flask web server, load the HTML form contained in the variable main_page. The form should load at route '/'.\n",
        "The user should then be able to enter a number and click Calculate at which time the browser will submit\n",
        "an HTTP POST to the web server. The web server will then capture the post, extract the number entered\n",
        "and display the number multiplied by 5 on the browser.\n",
        "\n",
        "\n",
        "\n",
        "from flask import Flask, request\n",
        "\n",
        "app = Flask(__name__)\n",
        "\n",
        "main_page = '''\n",
        "<html>\n",
        "    <head>\n",
        "    <title></title>\n",
        "    <link rel=\"stylesheet\" href=\"http://netdna.bootstrapcdn.com/bootstrap/3.3.2/css/bootstrap.min.css\">\n",
        "    <link rel=\"stylesheet\" href=\"http://netdna.bootstrapcdn.com/font-awesome/3.2.1/css/font-awesome.min.css\">\n",
        "    </head>\n",
        "<body>\n",
        "<form class=\"form-horizontal\" method=\"post\" action=\"/calc\">\n",
        "<fieldset>\n",
        "<!-- Form Name -->\n",
        "<legend>Multiplier</legend>\n",
        "<!-- Text input-->\n",
        "<div class=\"form-group\">\n",
        "  <label class=\"col-md-4 control-label\" for=\"textinput\">Number</label>\n",
        "  <div class=\"col-md-4\">\n",
        "  <input id=\"textinput\" type=\"number\" name='number' placeholder=\"Enter a number\" class=\"form-control input-md\">\n",
        "  </div>\n",
        "</div>\n",
        "<!-- Button -->\n",
        "<div class=\"form-group\">\n",
        "  <label class=\"col-md-4 control-label\" for=\"singlebutton\"></label>\n",
        "  <div class=\"col-md-4\">\n",
        "    <button id=\"singlebutton\" name=\"singlebutton\" class=\"btn btn-primary\">Calculate</button>\n",
        "  </div>\n",
        "</div>\n",
        "</fieldset>\n",
        "</form>\n",
        "<script src=\"http://netdna.bootstrapcdn.com/bootstrap/3.3.2/js/bootstrap.min.js\"></script>\n",
        "</body>\n",
        "</html>\n",
        "'''\n",
        "\n",
        "# Define the routes after creating the Flask app\n",
        "@app.route('/')\n",
        "def index():\n",
        "    # Load the HTML form at route '/'\n",
        "    return main_page\n",
        "\n",
        "@app.route('/calc', methods=['POST'])\n",
        "def calc():\n",
        "    # Get the number entered by the user from the form\n",
        "    number = request.form.get('number')\n",
        "    # Convert the number to an integer\n",
        "    number = int(number)\n",
        "    # Multiply the number by 5\n",
        "    result = number * 5\n",
        "    # Return the result as a string\n",
        "    return str(result)\n",
        "\n",
        "if __name__ == '__main__':\n",
        "    app.run()\n"
      ]
    },
    {
      "cell_type": "markdown",
      "source": [
        "Here is the link which you will be able to access the web application at [\"waheeb's link](http://127.0.0.1:5000)"
      ],
      "metadata": {
        "id": "NWhrjjKM2cs_"
      }
    }
  ],
  "metadata": {
    "colab": {
      "name": "ExtraCreditFlask.ipynb",
      "provenance": []
    },
    "kernelspec": {
      "display_name": "Python 3 (ipykernel)",
      "language": "python",
      "name": "python3"
    },
    "language_info": {
      "codemirror_mode": {
        "name": "ipython",
        "version": 3
      },
      "file_extension": ".py",
      "mimetype": "text/x-python",
      "name": "python",
      "nbconvert_exporter": "python",
      "pygments_lexer": "ipython3",
      "version": "3.10.9"
    }
  },
  "nbformat": 4,
  "nbformat_minor": 0
}