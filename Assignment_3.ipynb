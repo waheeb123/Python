{
  "nbformat": 4,
  "nbformat_minor": 0,
  "metadata": {
    "colab": {
      "provenance": []
    },
    "kernelspec": {
      "name": "python3",
      "display_name": "Python 3"
    },
    "language_info": {
      "name": "python"
    }
  },
  "cells": [
    {
      "cell_type": "markdown",
      "source": [
        "###### *Waheeb Algabri*"
      ],
      "metadata": {
        "id": "R1CwLXq4gS3a"
      }
    },
    {
      "cell_type": "markdown",
      "source": [
        "### **Assignment 3**\n",
        "\n"
      ],
      "metadata": {
        "id": "N-BT_WyZnAD4"
      }
    },
    {
      "cell_type": "markdown",
      "source": [
        "**Q1:** Write a program that prompts the user for a meal: breakfast, lunch, or dinner. Then using if statements and else statements print the user a message recommending a meal. For example, if the meal was breakfast, you could say something like, “How about some bacon and eggs?”\n",
        "The user may enter something else in, but you only have to respond to breakfast, lunch, or dinner"
      ],
      "metadata": {
        "id": "JsH8Xx7QmzVU"
      }
    },
    {
      "cell_type": "code",
      "source": [
        "# Prompt the user for a meal choice\n",
        "meal_choice = input(\"What meal are you planning to have (breakfast, lunch, or dinner)? \")\n",
        "\n",
        "# Provide recommendations based on the meal choice\n",
        "if meal_choice == \"breakfast\":\n",
        "    print(\"How about some pancake and eggs?\")\n",
        "elif meal_choice == \"lunch\":\n",
        "    print(\"Would you like to have a sandwich or a salad.\")\n",
        "elif meal_choice == \"dinner\":\n",
        "    print(\"Consider having some grilled chicken or pasta.\")\n",
        "else:\n",
        "    print(\"Sorry, I can only recommend meals for breakfast, lunch, or dinner.\")\n"
      ],
      "metadata": {
        "colab": {
          "base_uri": "https://localhost:8080/"
        },
        "id": "1LgiDNrAm7Sj",
        "outputId": "9ea2506d-2990-4f2d-a8a0-67a2a5b38fdc"
      },
      "execution_count": 1,
      "outputs": [
        {
          "output_type": "stream",
          "name": "stdout",
          "text": [
            "What meal are you planning to have (breakfast, lunch, or dinner)? dinner\n",
            "Consider having some grilled chicken or pasta.\n"
          ]
        }
      ]
    },
    {
      "cell_type": "markdown",
      "source": [
        "**Q2:** The mailroom has asked you to design a simple payroll program that calculates a student employee’s gross pay, including any overtime wages. If any employee works over 20 hours in a week, the mailroom pays them 1.5 times their regular hourly pay rate for all hours over 20.\n",
        "You should take in the user’s input for the number of hours worked, and their rate of pay."
      ],
      "metadata": {
        "id": "YJGbmPePnav2"
      }
    },
    {
      "cell_type": "code",
      "source": [
        "# Get user input for hours worked and hourly pay rate\n",
        "hours_worked = float(input(\"Enter the number of hours worked: \"))\n",
        "hourly_pay_rate = float(input(\"Enter the hourly pay rate: \"))\n",
        "\n",
        "# Calculate regular pay for the first 20 hours\n",
        "if hours_worked <= 20:\n",
        "    regular_pay = hours_worked * hourly_pay_rate\n",
        "    overtime_pay = 0  # No overtime if hours worked are 20 or less\n",
        "else:\n",
        "    regular_pay = 20 * hourly_pay_rate\n",
        "    overtime_hours = hours_worked - 20\n",
        "    overtime_pay = overtime_hours * 1.5 * hourly_pay_rate\n",
        "\n",
        "# Calculate total gross pay\n",
        "gross_pay = regular_pay + overtime_pay\n",
        "\n",
        "# Display the results\n",
        "print(f\"Regular Pay: ${regular_pay:.2f}\")\n",
        "print(f\"Overtime Pay: ${overtime_pay:.2f}\")\n",
        "print(f\"Total Gross Pay: ${gross_pay:.2f}\")\n"
      ],
      "metadata": {
        "id": "W1VGKxI3cJoV",
        "outputId": "04997c3b-8dc0-4142-9ff9-4af467cc9039",
        "colab": {
          "base_uri": "https://localhost:8080/"
        }
      },
      "execution_count": 3,
      "outputs": [
        {
          "output_type": "stream",
          "name": "stdout",
          "text": [
            "Enter the number of hours worked: 498\n",
            "Enter the hourly pay rate: 294\n",
            "Regular Pay: $5880.00\n",
            "Overtime Pay: $210798.00\n",
            "Total Gross Pay: $216678.00\n"
          ]
        }
      ]
    },
    {
      "cell_type": "markdown",
      "source": [
        "**Q3:** Write a function named times_ten. The function should accept an argument and display the product of its argument multiplied times 10."
      ],
      "metadata": {
        "id": "nnMv_uz1nvvl"
      }
    },
    {
      "cell_type": "code",
      "source": [
        "def times_ten(argument):\n",
        "  print(argument*10)\n",
        "\n",
        "times_ten(10)"
      ],
      "metadata": {
        "colab": {
          "base_uri": "https://localhost:8080/"
        },
        "id": "UkMaoHVkn7Dh",
        "outputId": "33cc2dff-c80e-44e9-d2c1-bcb2e3c68198"
      },
      "execution_count": 4,
      "outputs": [
        {
          "output_type": "stream",
          "name": "stdout",
          "text": [
            "100\n"
          ]
        }
      ]
    },
    {
      "cell_type": "markdown",
      "source": [
        "**Q4:** Find the errors, debug the program, and then execute to show the output.\n",
        "\n",
        "def main()\n",
        "      \n",
        "      Calories1 = input( \"How many calories are in the first food?\")\n",
        "      Calories2 = input( \"How many calories are in the first food?\")\n",
        "      showCalories(calories1, calories2)\n",
        "\n",
        "def showCalories()   \n",
        "\n",
        "   print(“The total calories you ate today”, format(calories1 + calories2,.2f))"
      ],
      "metadata": {
        "id": "6dvUjoUKoDn9"
      }
    },
    {
      "cell_type": "markdown",
      "source": [
        " #### **Changes made**\n",
        "\n",
        "* Adjusted the indentation in the main function, moving it two steps back, as Python is sensitive to indentation levels.\n",
        "\n",
        "* Modified the input prompt for calories2 to specify the second food.\n",
        "\n",
        "* Capitalized the variable names calories in the showCalories function to match Python's case sensitivity.\n",
        "\n",
        "* Converted the calories input to integers since the input function returns strings.\n",
        "\n",
        "* Corrected the usage of the format method, removing the '.2f' to properly format the total calories.\n",
        "\n",
        "* Replaced non-standard quotation marks with standard double quotes to define string literals.\n",
        "\n",
        "* Added colons at the end of the function definitions for proper syntax.\n",
        "Called the main() function to execute the program.\n",
        "\n",
        "* Added arguments to the showCalories function to accept calories1 and calories2."
      ],
      "metadata": {
        "id": "jv4qzno-e7xv"
      }
    },
    {
      "cell_type": "code",
      "source": [
        "def main():\n",
        "  Calories1 = input(\"How many calories are in the first food? \")\n",
        "  Calories2 = input(\"How many calories are in the second food? \")\n",
        "  showCalories(int(Calories1), int(Calories2))\n",
        "\n",
        "def showCalories(Calories1,Calories2):\n",
        "   print(\"The total calories you ate today {:.2f}\".format(Calories1 + Calories2))\n",
        "\n",
        "main()"
      ],
      "metadata": {
        "colab": {
          "base_uri": "https://localhost:8080/"
        },
        "id": "gNSXAozapf1c",
        "outputId": "9c47e331-76b5-4b0a-b666-354207d2b7e8"
      },
      "execution_count": 7,
      "outputs": [
        {
          "output_type": "stream",
          "name": "stdout",
          "text": [
            "How many calories are in the first food? 25\n",
            "How many calories are in the second food? 18\n",
            "The total calories you ate today 43.00\n"
          ]
        }
      ]
    },
    {
      "cell_type": "markdown",
      "source": [
        "**Q5:** Write a program that uses any loop (while or for) that calculates the total of the following series of numbers:\n",
        "\n",
        "         1/30 + 2/29 + 3/28 ............. + 30/1"
      ],
      "metadata": {
        "id": "zisu9NBXpous"
      }
    },
    {
      "cell_type": "code",
      "source": [
        "def sum_of_fractions(min,max):\n",
        "  summation = 0\n",
        "\n",
        "  for x in range(min,max+1):\n",
        "\n",
        "    summation += (x)/(max-(x-1))\n",
        "\n",
        "  return summation\n",
        "\n",
        "min = 1\n",
        "max = 30\n",
        "\n",
        "\n",
        "summation = sum_of_fractions(min,max)\n",
        "print(summation)\n",
        "\n",
        "print(round(summation,2))\n"
      ],
      "metadata": {
        "colab": {
          "base_uri": "https://localhost:8080/"
        },
        "id": "fT58WVjmqRSu",
        "outputId": "abdcb268-8aca-429f-af64-abf800f71c12"
      },
      "execution_count": 8,
      "outputs": [
        {
          "output_type": "stream",
          "name": "stdout",
          "text": [
            "93.84460105853213\n",
            "93.84\n"
          ]
        }
      ]
    },
    {
      "cell_type": "markdown",
      "source": [
        "**Q6:** Write a function that computes the area of a triangle given its base and height.\n",
        "The formula for an area of a triangle is:\n",
        "\n",
        "AREA = 1/2 * BASE * HEIGHT\n",
        "\n",
        "For example, if the base was 5 and the height was 4, the area would be 10.\n",
        "triangle_area(5, 4)   # should print 10"
      ],
      "metadata": {
        "id": "wBqkLzYuqgZw"
      }
    },
    {
      "cell_type": "code",
      "source": [
        "# The function below can be modified to only display the area\n",
        "\n",
        "def triangle_calc(base = 0,height = 0):\n",
        "    if base == 0 and height == 0:\n",
        "      base = float(input(\"Please enter the base of your triangle: \"))\n",
        "      height = float(input(\"Please enter the height of your triangle: \"))\n",
        "    area = (1/2)*base*height\n",
        "    print(f\"A {base} by {height} triangle has an area of {area}\")\n",
        "\n",
        "triangle_calc(5,4)\n",
        "triangle_calc()"
      ],
      "metadata": {
        "colab": {
          "base_uri": "https://localhost:8080/"
        },
        "id": "TnGxFs-errqJ",
        "outputId": "65d7e192-a6d9-4ffa-a282-56174e4232ea"
      },
      "execution_count": 9,
      "outputs": [
        {
          "output_type": "stream",
          "name": "stdout",
          "text": [
            "A 5 by 4 triangle has an area of 10.0\n",
            "Please enter the base of your triangle: 25\n",
            "Please enter the height of your triangle: 126\n",
            "A 25.0 by 126.0 triangle has an area of 1575.0\n"
          ]
        }
      ]
    }
  ]
}